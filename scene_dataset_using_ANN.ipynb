{
  "nbformat": 4,
  "nbformat_minor": 0,
  "metadata": {
    "colab": {
      "name": "scene_dataset_using_ANN.ipynb",
      "provenance": [],
      "include_colab_link": true
    },
    "kernelspec": {
      "name": "python3",
      "display_name": "Python 3"
    },
    "language_info": {
      "name": "python"
    },
    "accelerator": "GPU"
  },
  "cells": [
    {
      "cell_type": "markdown",
      "metadata": {
        "id": "view-in-github",
        "colab_type": "text"
      },
      "source": [
        "<a href=\"https://colab.research.google.com/github/aldonugraha/Scene_dataset_using_ANN_UTS/blob/main/scene_dataset_using_ANN.ipynb\" target=\"_parent\"><img src=\"https://colab.research.google.com/assets/colab-badge.svg\" alt=\"Open In Colab\"/></a>"
      ]
    },
    {
      "cell_type": "markdown",
      "metadata": {
        "id": "wX9VYGRyBptt"
      },
      "source": [
        ""
      ]
    },
    {
      "cell_type": "markdown",
      "metadata": {
        "id": "view-in-github"
      },
      "source": [
        "<a href=\"https://colab.research.google.com/github/syamsulrizal123/SLO/blob/main/scene_dataset_using_ANN.ipynb\" target=\"_parent\"><img src=\"https://colab.research.google.com/assets/colab-badge.svg\" alt=\"Open In Colab\"/></a>"
      ]
    },
    {
      "cell_type": "code",
      "metadata": {
        "colab": {
          "base_uri": "https://localhost:8080/"
        },
        "id": "N7V7EexxuY0O",
        "outputId": "b251196c-0e80-4b0f-b07d-2a45e431334e"
      },
      "source": [
        "cd \"/content/drive/MyDrive/Colab Notebooks\""
      ],
      "execution_count": 20,
      "outputs": [
        {
          "output_type": "stream",
          "text": [
            "/content/drive/MyDrive/Colab Notebooks\n"
          ],
          "name": "stdout"
        }
      ]
    },
    {
      "cell_type": "code",
      "metadata": {
        "colab": {
          "base_uri": "https://localhost:8080/"
        },
        "id": "eJYNGzHtmWzG",
        "outputId": "484148a4-304e-411a-f453-1bf79c6eb9b0"
      },
      "source": [
        "from google.colab import drive\n",
        "drive.mount('/content/drive')"
      ],
      "execution_count": 21,
      "outputs": [
        {
          "output_type": "stream",
          "text": [
            "Drive already mounted at /content/drive; to attempt to forcibly remount, call drive.mount(\"/content/drive\", force_remount=True).\n"
          ],
          "name": "stdout"
        }
      ]
    },
    {
      "cell_type": "code",
      "metadata": {
        "id": "bR2GymhI8AOA",
        "colab": {
          "base_uri": "https://localhost:8080/"
        },
        "outputId": "11c87c00-cd0f-4210-fd95-96f5248d3b40"
      },
      "source": [
        "ls"
      ],
      "execution_count": 164,
      "outputs": [
        {
          "output_type": "stream",
          "text": [
            " \u001b[0m\u001b[01;34m3scene\u001b[0m/                           Iris_Clustering.ipynb\n",
            " 3scene-20210416T141019Z-001.zip  'optimasi mas faiz.ipynb'\n",
            " Cancer_Clustering.ipynb           README.md\n",
            "'classify_cancer (1).ipynb'       \u001b[01;34m'Scene dataset ANN'\u001b[0m/\n",
            " classify_cancer.ipynb             scene_dataset_using_ANN.ipynb\n",
            " classify_iris_ANN.ipynb           Simple_ANN_in_Python.ipynb\n",
            "'Copy of classify_cancer.ipynb'    SLO.ipynb\n",
            " data_cancer.csv                   Untitled0.ipynb\n"
          ],
          "name": "stdout"
        }
      ]
    },
    {
      "cell_type": "code",
      "metadata": {
        "id": "oJnslb2pulgX"
      },
      "source": [
        "# import the necessary packages\n",
        "from keras.models import Sequential\n",
        "from keras.layers.core import Activation\n",
        "from keras.layers.core import Flatten\n",
        "from keras.layers.core import Dense\n",
        "from keras.optimizers import Adam\n",
        "from sklearn.preprocessing import LabelBinarizer\n",
        "from sklearn.model_selection import train_test_split\n",
        "from sklearn.metrics import classification_report\n",
        "from PIL import Image\n",
        "from imutils import paths\n",
        "import numpy as np\n",
        "import os"
      ],
      "execution_count": 165,
      "outputs": []
    },
    {
      "cell_type": "code",
      "metadata": {
        "colab": {
          "base_uri": "https://localhost:8080/"
        },
        "id": "sLzkrIF_uo82",
        "outputId": "dd585e1c-395e-4194-ab94-abb76a40912f"
      },
      "source": [
        "# grab all image paths in the input dataset directory, then initialize\n",
        "# our list of images and corresponding class labels\n",
        "print(\"[INFO] loading images...\")\n",
        "imagePaths = paths.list_images(\"3scene\")\n",
        "data = []\n",
        "labels = []"
      ],
      "execution_count": 166,
      "outputs": [
        {
          "output_type": "stream",
          "text": [
            "[INFO] loading images...\n"
          ],
          "name": "stdout"
        }
      ]
    },
    {
      "cell_type": "code",
      "metadata": {
        "id": "t-rAxV5guqVf"
      },
      "source": [
        "# loop over our input images\n",
        "for imagePath in imagePaths:\n",
        "\t# load the input image from disk, resize it to 64x64 pixels, scale\n",
        "\t# the pixel intensities to the range [0, 1], and then update our\n",
        "\t# images list\n",
        "\timage = Image.open(imagePath)\n",
        " #bisa pasang preprocessing disini jika mau, seperti filterring, dll\n",
        "\timage = np.array(image.resize((128, 128))) / 255.0 #normalisasi\n",
        "\tdata.append(image)\n",
        "\n",
        "\t# extract the class label from the file path and update the\n",
        "\t# labels list\n",
        "\tlabel = imagePath.split(os.path.sep)[-2]\n",
        "\tlabels.append(label)"
      ],
      "execution_count": 167,
      "outputs": []
    },
    {
      "cell_type": "code",
      "metadata": {
        "colab": {
          "base_uri": "https://localhost:8080/"
        },
        "id": "le4zk9atu1vn",
        "outputId": "51330b22-113d-4498-da5c-405749ccbede"
      },
      "source": [
        "print(labels)"
      ],
      "execution_count": 168,
      "outputs": [
        {
          "output_type": "stream",
          "text": [
            "['coast', 'coast', 'coast', 'coast', 'coast', 'coast', 'coast', 'coast', 'coast', 'coast', 'coast', 'coast', 'coast', 'coast', 'coast', 'coast', 'coast', 'coast', 'coast', 'coast', 'coast', 'coast', 'coast', 'coast', 'coast', 'coast', 'coast', 'coast', 'coast', 'coast', 'coast', 'coast', 'coast', 'coast', 'coast', 'coast', 'coast', 'coast', 'coast', 'coast', 'coast', 'coast', 'coast', 'coast', 'coast', 'coast', 'coast', 'coast', 'coast', 'coast', 'coast', 'coast', 'coast', 'coast', 'coast', 'coast', 'coast', 'coast', 'coast', 'coast', 'coast', 'coast', 'coast', 'coast', 'coast', 'coast', 'coast', 'coast', 'coast', 'coast', 'coast', 'coast', 'coast', 'coast', 'coast', 'coast', 'coast', 'coast', 'coast', 'coast', 'coast', 'coast', 'coast', 'coast', 'coast', 'coast', 'coast', 'coast', 'coast', 'coast', 'coast', 'coast', 'coast', 'coast', 'coast', 'coast', 'coast', 'coast', 'coast', 'coast', 'coast', 'coast', 'coast', 'coast', 'coast', 'coast', 'coast', 'coast', 'coast', 'coast', 'coast', 'coast', 'coast', 'coast', 'coast', 'coast', 'coast', 'coast', 'coast', 'coast', 'coast', 'coast', 'coast', 'coast', 'coast', 'coast', 'coast', 'coast', 'coast', 'coast', 'coast', 'coast', 'coast', 'coast', 'coast', 'coast', 'coast', 'coast', 'coast', 'coast', 'coast', 'coast', 'coast', 'coast', 'coast', 'coast', 'coast', 'coast', 'coast', 'coast', 'coast', 'coast', 'coast', 'coast', 'coast', 'coast', 'coast', 'coast', 'coast', 'coast', 'coast', 'coast', 'coast', 'coast', 'coast', 'coast', 'coast', 'coast', 'coast', 'coast', 'coast', 'coast', 'coast', 'coast', 'coast', 'coast', 'coast', 'coast', 'coast', 'coast', 'coast', 'coast', 'coast', 'coast', 'coast', 'coast', 'coast', 'coast', 'coast', 'coast', 'coast', 'coast', 'coast', 'coast', 'coast', 'coast', 'coast', 'coast', 'coast', 'coast', 'coast', 'coast', 'coast', 'coast', 'coast', 'coast', 'coast', 'coast', 'coast', 'coast', 'coast', 'coast', 'coast', 'coast', 'coast', 'coast', 'coast', 'coast', 'coast', 'coast', 'coast', 'coast', 'coast', 'coast', 'coast', 'coast', 'coast', 'coast', 'coast', 'coast', 'coast', 'coast', 'coast', 'coast', 'coast', 'coast', 'coast', 'coast', 'coast', 'coast', 'coast', 'coast', 'coast', 'coast', 'coast', 'coast', 'coast', 'coast', 'coast', 'coast', 'coast', 'coast', 'coast', 'coast', 'coast', 'coast', 'coast', 'coast', 'coast', 'coast', 'coast', 'coast', 'coast', 'coast', 'coast', 'coast', 'coast', 'coast', 'coast', 'coast', 'coast', 'coast', 'coast', 'coast', 'coast', 'coast', 'coast', 'coast', 'coast', 'coast', 'coast', 'coast', 'coast', 'coast', 'coast', 'coast', 'coast', 'coast', 'coast', 'coast', 'coast', 'coast', 'coast', 'coast', 'coast', 'coast', 'coast', 'coast', 'coast', 'coast', 'coast', 'coast', 'coast', 'coast', 'coast', 'coast', 'coast', 'coast', 'coast', 'coast', 'coast', 'coast', 'coast', 'coast', 'coast', 'coast', 'coast', 'coast', 'coast', 'coast', 'coast', 'coast', 'coast', 'coast', 'coast', 'coast', 'coast', 'coast', 'coast', 'coast', 'coast', 'coast', 'coast', 'coast', 'coast', 'coast', 'coast', 'coast', 'coast', 'coast', 'coast', 'coast', 'coast', 'coast', 'coast', 'coast', 'coast', 'coast', 'coast', 'coast', 'coast', 'coast', 'coast', 'coast', 'coast', 'coast', 'coast', 'coast', 'coast', 'coast', 'forest', 'forest', 'forest', 'forest', 'forest', 'forest', 'forest', 'forest', 'forest', 'forest', 'forest', 'forest', 'forest', 'forest', 'forest', 'forest', 'forest', 'forest', 'forest', 'forest', 'forest', 'forest', 'forest', 'forest', 'forest', 'forest', 'forest', 'forest', 'forest', 'forest', 'forest', 'forest', 'forest', 'forest', 'forest', 'forest', 'forest', 'forest', 'forest', 'forest', 'forest', 'forest', 'forest', 'forest', 'forest', 'forest', 'forest', 'forest', 'forest', 'forest', 'forest', 'forest', 'forest', 'forest', 'forest', 'forest', 'forest', 'forest', 'forest', 'forest', 'forest', 'forest', 'forest', 'forest', 'forest', 'forest', 'forest', 'forest', 'forest', 'forest', 'forest', 'forest', 'forest', 'forest', 'forest', 'forest', 'forest', 'forest', 'forest', 'forest', 'forest', 'forest', 'forest', 'forest', 'forest', 'forest', 'forest', 'forest', 'forest', 'forest', 'forest', 'forest', 'forest', 'forest', 'forest', 'forest', 'forest', 'forest', 'forest', 'forest', 'forest', 'forest', 'forest', 'forest', 'forest', 'forest', 'forest', 'forest', 'forest', 'forest', 'forest', 'forest', 'forest', 'forest', 'forest', 'forest', 'forest', 'forest', 'forest', 'forest', 'forest', 'forest', 'forest', 'forest', 'forest', 'forest', 'forest', 'forest', 'forest', 'forest', 'forest', 'forest', 'forest', 'forest', 'forest', 'forest', 'forest', 'forest', 'forest', 'forest', 'forest', 'forest', 'forest', 'forest', 'forest', 'forest', 'forest', 'forest', 'forest', 'forest', 'forest', 'forest', 'forest', 'forest', 'forest', 'forest', 'forest', 'forest', 'forest', 'forest', 'forest', 'forest', 'forest', 'forest', 'forest', 'forest', 'forest', 'forest', 'forest', 'forest', 'forest', 'forest', 'forest', 'forest', 'forest', 'forest', 'forest', 'forest', 'forest', 'forest', 'forest', 'forest', 'forest', 'forest', 'forest', 'forest', 'forest', 'forest', 'forest', 'forest', 'forest', 'forest', 'forest', 'forest', 'forest', 'forest', 'forest', 'forest', 'forest', 'forest', 'forest', 'forest', 'forest', 'forest', 'forest', 'forest', 'forest', 'forest', 'forest', 'forest', 'forest', 'forest', 'forest', 'forest', 'forest', 'forest', 'forest', 'forest', 'forest', 'forest', 'forest', 'forest', 'forest', 'forest', 'forest', 'forest', 'forest', 'forest', 'forest', 'forest', 'forest', 'forest', 'forest', 'forest', 'forest', 'forest', 'forest', 'forest', 'forest', 'forest', 'forest', 'forest', 'forest', 'forest', 'forest', 'forest', 'forest', 'forest', 'forest', 'forest', 'forest', 'forest', 'forest', 'forest', 'forest', 'forest', 'forest', 'forest', 'forest', 'forest', 'forest', 'forest', 'forest', 'forest', 'forest', 'forest', 'forest', 'forest', 'forest', 'forest', 'forest', 'forest', 'forest', 'forest', 'forest', 'forest', 'forest', 'forest', 'forest', 'forest', 'forest', 'forest', 'forest', 'forest', 'forest', 'forest', 'forest', 'forest', 'forest', 'forest', 'forest', 'forest', 'forest', 'forest', 'forest', 'forest', 'forest', 'forest', 'forest', 'forest', 'forest', 'forest', 'forest', 'forest', 'forest', 'forest', 'forest', 'forest', 'forest', 'forest', 'forest', 'forest', 'forest', 'forest', 'forest', 'forest', 'forest', 'forest', 'forest', 'forest', 'forest', 'forest', 'forest', 'forest', 'forest', 'forest', 'forest', 'forest', 'highway', 'highway', 'highway', 'highway', 'highway', 'highway', 'highway', 'highway', 'highway', 'highway', 'highway', 'highway', 'highway', 'highway', 'highway', 'highway', 'highway', 'highway', 'highway', 'highway', 'highway', 'highway', 'highway', 'highway', 'highway', 'highway', 'highway', 'highway', 'highway', 'highway', 'highway', 'highway', 'highway', 'highway', 'highway', 'highway', 'highway', 'highway', 'highway', 'highway', 'highway', 'highway', 'highway', 'highway', 'highway', 'highway', 'highway', 'highway', 'highway', 'highway', 'highway', 'highway', 'highway', 'highway', 'highway', 'highway', 'highway', 'highway', 'highway', 'highway', 'highway', 'highway', 'highway', 'highway', 'highway', 'highway', 'highway', 'highway', 'highway', 'highway', 'highway', 'highway', 'highway', 'highway', 'highway', 'highway', 'highway', 'highway', 'highway', 'highway', 'highway', 'highway', 'highway', 'highway', 'highway', 'highway', 'highway', 'highway', 'highway', 'highway', 'highway', 'highway', 'highway', 'highway', 'highway', 'highway', 'highway', 'highway', 'highway', 'highway', 'highway', 'highway', 'highway', 'highway', 'highway', 'highway', 'highway', 'highway', 'highway', 'highway', 'highway', 'highway', 'highway', 'highway', 'highway', 'highway', 'highway', 'highway', 'highway', 'highway', 'highway', 'highway', 'highway', 'highway', 'highway', 'highway', 'highway', 'highway', 'highway', 'highway', 'highway', 'highway', 'highway', 'highway', 'highway', 'highway', 'highway', 'highway', 'highway', 'highway', 'highway', 'highway', 'highway', 'highway', 'highway', 'highway', 'highway', 'highway', 'highway', 'highway', 'highway', 'highway', 'highway', 'highway', 'highway', 'highway', 'highway', 'highway', 'highway', 'highway', 'highway', 'highway', 'highway', 'highway', 'highway', 'highway', 'highway', 'highway', 'highway', 'highway', 'highway', 'highway', 'highway', 'highway', 'highway', 'highway', 'highway', 'highway', 'highway', 'highway', 'highway', 'highway', 'highway', 'highway', 'highway', 'highway', 'highway', 'highway', 'highway', 'highway', 'highway', 'highway', 'highway', 'highway', 'highway', 'highway', 'highway', 'highway', 'highway', 'highway', 'highway', 'highway', 'highway', 'highway', 'highway', 'highway', 'highway', 'highway', 'highway', 'highway', 'highway', 'highway', 'highway', 'highway', 'highway', 'highway', 'highway', 'highway', 'highway', 'highway', 'highway', 'highway', 'highway', 'highway', 'highway', 'highway', 'highway', 'highway', 'highway', 'highway', 'highway', 'highway', 'highway', 'highway', 'highway', 'highway', 'highway', 'highway', 'highway', 'highway', 'highway', 'highway', 'highway', 'highway', 'highway', 'highway', 'highway', 'highway', 'highway', 'highway', 'highway', 'highway', 'highway', 'highway', 'highway', 'highway', 'highway', 'highway', 'highway', 'highway']\n"
          ],
          "name": "stdout"
        }
      ]
    },
    {
      "cell_type": "code",
      "metadata": {
        "id": "r8yIePMHvx0w"
      },
      "source": [
        "# encode the labels, converting them from strings to integers\n",
        "lb = LabelBinarizer()\n",
        "labels = lb.fit_transform(labels)"
      ],
      "execution_count": 169,
      "outputs": []
    },
    {
      "cell_type": "code",
      "metadata": {
        "id": "5FPCyIqcVGB7",
        "colab": {
          "base_uri": "https://localhost:8080/"
        },
        "outputId": "c6c5b369-e9b9-428f-ffb4-97b7742ee2f8"
      },
      "source": [
        "print(labels)"
      ],
      "execution_count": 170,
      "outputs": [
        {
          "output_type": "stream",
          "text": [
            "[[1 0 0]\n",
            " [1 0 0]\n",
            " [1 0 0]\n",
            " ...\n",
            " [0 0 1]\n",
            " [0 0 1]\n",
            " [0 0 1]]\n"
          ],
          "name": "stdout"
        }
      ]
    },
    {
      "cell_type": "code",
      "metadata": {
        "colab": {
          "base_uri": "https://localhost:8080/"
        },
        "id": "E-xr1UQ9-zhu",
        "outputId": "b47af3f6-e611-472a-eaf6-f26dc3356c02"
      },
      "source": [
        "print(np.array(data).shape)"
      ],
      "execution_count": 171,
      "outputs": [
        {
          "output_type": "stream",
          "text": [
            "(948, 128, 128, 3)\n"
          ],
          "name": "stdout"
        }
      ]
    },
    {
      "cell_type": "code",
      "metadata": {
        "colab": {
          "base_uri": "https://localhost:8080/"
        },
        "id": "Xr8lG_sDv6tP",
        "outputId": "8e518ed6-b8d2-478d-9ed2-dba542ab893c"
      },
      "source": [
        "# perform a training and testing split, using 75% of the data for\n",
        "# training and 25% for evaluation\n",
        "(trainX, testX, trainY, testY) = train_test_split(np.array(data),\tnp.array(labels), test_size=0.25)\n",
        "print(trainX.shape)\n",
        "print(testX.shape)"
      ],
      "execution_count": 172,
      "outputs": [
        {
          "output_type": "stream",
          "text": [
            "(711, 128, 128, 3)\n",
            "(237, 128, 128, 3)\n"
          ],
          "name": "stdout"
        }
      ]
    },
    {
      "cell_type": "code",
      "metadata": {
        "id": "-jKeOzGSv9mH"
      },
      "source": [
        "from keras.models import Sequential\n",
        "from keras.layers.core import Flatten\n",
        "from keras.layers.core import Dense, Dropout\n",
        "\n",
        "model = Sequential(\n",
        "    [\n",
        "        Flatten(input_shape=(128*128*3,)),\n",
        "        Dense(256, activation=\"relu\"),\n",
        "        Dense(128, activation=\"relu\"),\n",
        "        Dropout(0.2),\n",
        "        Dense(64, activation=\"relu\"),\n",
        "        Dense(32, activation=\"relu\"),\n",
        "        Dropout(0.2),\n",
        "        Dense(16, activation=\"relu\"),\n",
        "        Dense(8, activation=\"relu\"),\n",
        "        Dense(3, activation = \"softmax\"),\n",
        "    ]\n",
        ")"
      ],
      "execution_count": 173,
      "outputs": []
    },
    {
      "cell_type": "code",
      "metadata": {
        "colab": {
          "base_uri": "https://localhost:8080/"
        },
        "id": "O2BScVo0wC62",
        "outputId": "a7f4d6fa-158b-4390-c6f3-26c0ae71c670"
      },
      "source": [
        "model.summary()"
      ],
      "execution_count": 174,
      "outputs": [
        {
          "output_type": "stream",
          "text": [
            "Model: \"sequential_33\"\n",
            "_________________________________________________________________\n",
            "Layer (type)                 Output Shape              Param #   \n",
            "=================================================================\n",
            "flatten_33 (Flatten)         (None, 49152)             0         \n",
            "_________________________________________________________________\n",
            "dense_231 (Dense)            (None, 256)               12583168  \n",
            "_________________________________________________________________\n",
            "dense_232 (Dense)            (None, 128)               32896     \n",
            "_________________________________________________________________\n",
            "dropout_67 (Dropout)         (None, 128)               0         \n",
            "_________________________________________________________________\n",
            "dense_233 (Dense)            (None, 64)                8256      \n",
            "_________________________________________________________________\n",
            "dense_234 (Dense)            (None, 32)                2080      \n",
            "_________________________________________________________________\n",
            "dropout_68 (Dropout)         (None, 32)                0         \n",
            "_________________________________________________________________\n",
            "dense_235 (Dense)            (None, 16)                528       \n",
            "_________________________________________________________________\n",
            "dense_236 (Dense)            (None, 8)                 136       \n",
            "_________________________________________________________________\n",
            "dense_237 (Dense)            (None, 3)                 27        \n",
            "=================================================================\n",
            "Total params: 12,627,091\n",
            "Trainable params: 12,627,091\n",
            "Non-trainable params: 0\n",
            "_________________________________________________________________\n"
          ],
          "name": "stdout"
        }
      ]
    },
    {
      "cell_type": "code",
      "metadata": {
        "colab": {
          "base_uri": "https://localhost:8080/"
        },
        "id": "h5MTj5SUwGpG",
        "outputId": "e600c660-cf8f-4c37-d3b1-e7542f309b65"
      },
      "source": [
        "# train the model using the Adam optimizer\n",
        "print(\"[INFO] training network...\")\n",
        "opt = Adam(lr=1e-3, decay=1e-3)\n",
        "model.compile(loss=\"categorical_crossentropy\", optimizer=opt,\n",
        "\tmetrics=[\"accuracy\"])\n",
        "H = model.fit(trainX, trainY, validation_data=(testX, testY), epochs=50, batch_size=32)"
      ],
      "execution_count": 175,
      "outputs": [
        {
          "output_type": "stream",
          "text": [
            "[INFO] training network...\n",
            "Epoch 1/50\n",
            "WARNING:tensorflow:Model was constructed with shape (None, 49152) for input KerasTensor(type_spec=TensorSpec(shape=(None, 49152), dtype=tf.float32, name='flatten_33_input'), name='flatten_33_input', description=\"created by layer 'flatten_33_input'\"), but it was called on an input with incompatible shape (None, 128, 128, 3).\n",
            "WARNING:tensorflow:Model was constructed with shape (None, 49152) for input KerasTensor(type_spec=TensorSpec(shape=(None, 49152), dtype=tf.float32, name='flatten_33_input'), name='flatten_33_input', description=\"created by layer 'flatten_33_input'\"), but it was called on an input with incompatible shape (None, 128, 128, 3).\n",
            "23/23 [==============================] - ETA: 0s - loss: 2.9784 - accuracy: 0.3573WARNING:tensorflow:Model was constructed with shape (None, 49152) for input KerasTensor(type_spec=TensorSpec(shape=(None, 49152), dtype=tf.float32, name='flatten_33_input'), name='flatten_33_input', description=\"created by layer 'flatten_33_input'\"), but it was called on an input with incompatible shape (None, 128, 128, 3).\n",
            "23/23 [==============================] - 3s 85ms/step - loss: 2.9637 - accuracy: 0.3569 - val_loss: 1.0866 - val_accuracy: 0.3882\n",
            "Epoch 2/50\n",
            "23/23 [==============================] - 2s 76ms/step - loss: 1.5139 - accuracy: 0.3566 - val_loss: 1.0256 - val_accuracy: 0.4557\n",
            "Epoch 3/50\n",
            "23/23 [==============================] - 2s 75ms/step - loss: 1.1654 - accuracy: 0.3972 - val_loss: 0.9406 - val_accuracy: 0.6371\n",
            "Epoch 4/50\n",
            "23/23 [==============================] - 2s 76ms/step - loss: 1.1678 - accuracy: 0.3973 - val_loss: 0.9879 - val_accuracy: 0.4768\n",
            "Epoch 5/50\n",
            "23/23 [==============================] - 2s 77ms/step - loss: 1.0931 - accuracy: 0.3890 - val_loss: 1.0697 - val_accuracy: 0.4219\n",
            "Epoch 6/50\n",
            "23/23 [==============================] - 2s 76ms/step - loss: 1.0804 - accuracy: 0.4479 - val_loss: 1.0253 - val_accuracy: 0.5992\n",
            "Epoch 7/50\n",
            "23/23 [==============================] - 2s 77ms/step - loss: 1.0086 - accuracy: 0.4918 - val_loss: 0.8784 - val_accuracy: 0.6414\n",
            "Epoch 8/50\n",
            "23/23 [==============================] - 2s 76ms/step - loss: 0.9442 - accuracy: 0.5715 - val_loss: 0.8083 - val_accuracy: 0.6835\n",
            "Epoch 9/50\n",
            "23/23 [==============================] - 2s 76ms/step - loss: 0.9115 - accuracy: 0.5939 - val_loss: 0.8574 - val_accuracy: 0.5781\n",
            "Epoch 10/50\n",
            "23/23 [==============================] - 2s 76ms/step - loss: 0.9244 - accuracy: 0.5277 - val_loss: 0.8013 - val_accuracy: 0.6371\n",
            "Epoch 11/50\n",
            "23/23 [==============================] - 2s 76ms/step - loss: 0.8552 - accuracy: 0.5743 - val_loss: 0.7760 - val_accuracy: 0.6667\n",
            "Epoch 12/50\n",
            "23/23 [==============================] - 2s 75ms/step - loss: 0.8628 - accuracy: 0.5792 - val_loss: 0.8055 - val_accuracy: 0.7089\n",
            "Epoch 13/50\n",
            "23/23 [==============================] - 2s 77ms/step - loss: 0.8401 - accuracy: 0.6108 - val_loss: 0.7463 - val_accuracy: 0.6878\n",
            "Epoch 14/50\n",
            "23/23 [==============================] - 2s 76ms/step - loss: 0.7950 - accuracy: 0.6297 - val_loss: 0.7229 - val_accuracy: 0.6751\n",
            "Epoch 15/50\n",
            "23/23 [==============================] - 2s 75ms/step - loss: 0.8400 - accuracy: 0.6007 - val_loss: 0.7540 - val_accuracy: 0.6624\n",
            "Epoch 16/50\n",
            "23/23 [==============================] - 2s 77ms/step - loss: 0.8023 - accuracy: 0.5901 - val_loss: 0.7007 - val_accuracy: 0.6582\n",
            "Epoch 17/50\n",
            "23/23 [==============================] - 2s 77ms/step - loss: 0.7525 - accuracy: 0.6566 - val_loss: 0.6610 - val_accuracy: 0.6878\n",
            "Epoch 18/50\n",
            "23/23 [==============================] - 2s 76ms/step - loss: 0.6569 - accuracy: 0.7305 - val_loss: 0.7439 - val_accuracy: 0.7300\n",
            "Epoch 19/50\n",
            "23/23 [==============================] - 2s 76ms/step - loss: 0.7377 - accuracy: 0.6350 - val_loss: 0.6854 - val_accuracy: 0.7722\n",
            "Epoch 20/50\n",
            "23/23 [==============================] - 2s 76ms/step - loss: 0.7231 - accuracy: 0.6907 - val_loss: 0.5968 - val_accuracy: 0.8017\n",
            "Epoch 21/50\n",
            "23/23 [==============================] - 2s 76ms/step - loss: 0.5970 - accuracy: 0.7659 - val_loss: 0.6465 - val_accuracy: 0.7468\n",
            "Epoch 22/50\n",
            "23/23 [==============================] - 2s 75ms/step - loss: 0.7462 - accuracy: 0.6812 - val_loss: 0.8042 - val_accuracy: 0.7089\n",
            "Epoch 23/50\n",
            "23/23 [==============================] - 2s 76ms/step - loss: 0.6482 - accuracy: 0.7191 - val_loss: 0.5800 - val_accuracy: 0.8059\n",
            "Epoch 24/50\n",
            "23/23 [==============================] - 2s 77ms/step - loss: 0.5944 - accuracy: 0.7691 - val_loss: 0.7055 - val_accuracy: 0.6962\n",
            "Epoch 25/50\n",
            "23/23 [==============================] - 2s 77ms/step - loss: 0.5657 - accuracy: 0.7756 - val_loss: 0.5691 - val_accuracy: 0.8101\n",
            "Epoch 26/50\n",
            "23/23 [==============================] - 2s 76ms/step - loss: 0.5418 - accuracy: 0.8056 - val_loss: 0.5791 - val_accuracy: 0.8059\n",
            "Epoch 27/50\n",
            "23/23 [==============================] - 2s 76ms/step - loss: 0.5900 - accuracy: 0.7610 - val_loss: 0.5118 - val_accuracy: 0.8312\n",
            "Epoch 28/50\n",
            "23/23 [==============================] - 2s 76ms/step - loss: 0.4691 - accuracy: 0.8139 - val_loss: 0.5653 - val_accuracy: 0.8186\n",
            "Epoch 29/50\n",
            "23/23 [==============================] - 2s 78ms/step - loss: 0.4701 - accuracy: 0.8160 - val_loss: 0.5705 - val_accuracy: 0.8059\n",
            "Epoch 30/50\n",
            "23/23 [==============================] - 2s 76ms/step - loss: 0.4905 - accuracy: 0.8098 - val_loss: 0.5503 - val_accuracy: 0.8186\n",
            "Epoch 31/50\n",
            "23/23 [==============================] - 2s 76ms/step - loss: 0.4021 - accuracy: 0.8594 - val_loss: 0.8571 - val_accuracy: 0.6709\n",
            "Epoch 32/50\n",
            "23/23 [==============================] - 2s 76ms/step - loss: 0.5933 - accuracy: 0.7785 - val_loss: 0.5643 - val_accuracy: 0.8143\n",
            "Epoch 33/50\n",
            "23/23 [==============================] - 2s 76ms/step - loss: 0.3744 - accuracy: 0.8482 - val_loss: 0.6375 - val_accuracy: 0.7722\n",
            "Epoch 34/50\n",
            "23/23 [==============================] - 2s 76ms/step - loss: 0.3651 - accuracy: 0.8639 - val_loss: 0.5574 - val_accuracy: 0.8228\n",
            "Epoch 35/50\n",
            "23/23 [==============================] - 2s 77ms/step - loss: 0.4001 - accuracy: 0.8469 - val_loss: 0.5594 - val_accuracy: 0.8270\n",
            "Epoch 36/50\n",
            "23/23 [==============================] - 2s 75ms/step - loss: 0.3646 - accuracy: 0.8536 - val_loss: 0.5280 - val_accuracy: 0.8354\n",
            "Epoch 37/50\n",
            "23/23 [==============================] - 2s 77ms/step - loss: 0.3264 - accuracy: 0.8849 - val_loss: 0.6020 - val_accuracy: 0.8059\n",
            "Epoch 38/50\n",
            "23/23 [==============================] - 2s 76ms/step - loss: 0.3850 - accuracy: 0.8634 - val_loss: 0.6417 - val_accuracy: 0.8059\n",
            "Epoch 39/50\n",
            "23/23 [==============================] - 2s 76ms/step - loss: 0.2889 - accuracy: 0.8915 - val_loss: 0.5724 - val_accuracy: 0.7932\n",
            "Epoch 40/50\n",
            "23/23 [==============================] - 2s 76ms/step - loss: 0.2977 - accuracy: 0.8930 - val_loss: 0.6876 - val_accuracy: 0.7890\n",
            "Epoch 41/50\n",
            "23/23 [==============================] - 2s 78ms/step - loss: 0.4426 - accuracy: 0.8215 - val_loss: 0.5827 - val_accuracy: 0.8059\n",
            "Epoch 42/50\n",
            "23/23 [==============================] - 2s 78ms/step - loss: 0.3412 - accuracy: 0.8804 - val_loss: 0.7424 - val_accuracy: 0.7848\n",
            "Epoch 43/50\n",
            "23/23 [==============================] - 2s 77ms/step - loss: 0.4085 - accuracy: 0.8542 - val_loss: 0.5854 - val_accuracy: 0.8186\n",
            "Epoch 44/50\n",
            "23/23 [==============================] - 2s 76ms/step - loss: 0.2754 - accuracy: 0.9143 - val_loss: 0.6218 - val_accuracy: 0.8059\n",
            "Epoch 45/50\n",
            "23/23 [==============================] - 2s 76ms/step - loss: 0.2904 - accuracy: 0.8966 - val_loss: 0.7427 - val_accuracy: 0.7553\n",
            "Epoch 46/50\n",
            "23/23 [==============================] - 2s 75ms/step - loss: 0.2945 - accuracy: 0.8885 - val_loss: 0.6680 - val_accuracy: 0.8017\n",
            "Epoch 47/50\n",
            "23/23 [==============================] - 2s 77ms/step - loss: 0.4052 - accuracy: 0.8776 - val_loss: 0.5767 - val_accuracy: 0.8228\n",
            "Epoch 48/50\n",
            "23/23 [==============================] - 2s 76ms/step - loss: 0.2875 - accuracy: 0.8954 - val_loss: 0.6641 - val_accuracy: 0.7932\n",
            "Epoch 49/50\n",
            "23/23 [==============================] - 2s 76ms/step - loss: 0.2507 - accuracy: 0.9046 - val_loss: 0.6213 - val_accuracy: 0.8270\n",
            "Epoch 50/50\n",
            "23/23 [==============================] - 2s 77ms/step - loss: 0.2385 - accuracy: 0.9168 - val_loss: 0.7229 - val_accuracy: 0.8017\n"
          ],
          "name": "stdout"
        }
      ]
    },
    {
      "cell_type": "code",
      "metadata": {
        "colab": {
          "base_uri": "https://localhost:8080/",
          "height": 590
        },
        "id": "LcE-OzSJwMC-",
        "outputId": "08402ff9-ef8d-40f4-e382-0758023cdebd"
      },
      "source": [
        "import matplotlib.pyplot as plt\n",
        "\n",
        "print(H.history.keys())\n",
        "# summarize history for accuracy\n",
        "plt.plot(H.history['accuracy'])\n",
        "plt.plot(H.history['val_accuracy'])\n",
        "plt.title('model accuracy')\n",
        "plt.ylabel('accuracy')\n",
        "plt.xlabel('epoch')\n",
        "plt.legend(['train', 'test'], loc='upper left')\n",
        "plt.show()\n",
        "# summarize history for loss\n",
        "plt.plot(H.history['loss'])\n",
        "plt.plot(H.history['val_loss'])\n",
        "plt.title('model loss')\n",
        "plt.ylabel('loss')\n",
        "plt.xlabel('epoch')\n",
        "plt.legend(['train', 'test'], loc='upper left')\n",
        "plt.show()"
      ],
      "execution_count": 176,
      "outputs": [
        {
          "output_type": "stream",
          "text": [
            "dict_keys(['loss', 'accuracy', 'val_loss', 'val_accuracy'])\n"
          ],
          "name": "stdout"
        },
        {
          "output_type": "display_data",
          "data": {
            "image/png": "[encoded data removed]",
            "text/plain": [
              "<Figure size 432x288 with 1 Axes>"
            ]
          },
          "metadata": {
            "tags": [],
            "needs_background": "light"
          }
        },
        {
          "output_type": "display_data",
          "data": {
            "image/png": "[encoded data removed]",
            "text/plain": [
              "<Figure size 432x288 with 1 Axes>"
            ]
          },
          "metadata": {
            "tags": [],
            "needs_background": "light"
          }
        }
      ]
    },
    {
      "cell_type": "code",
      "metadata": {
        "colab": {
          "base_uri": "https://localhost:8080/"
        },
        "id": "a-YnZ8-bwmcY",
        "outputId": "4cafa01f-0a0b-451e-e4dc-db580560771c"
      },
      "source": [
        "# evaluate the network\n",
        "print(\"[INFO] evaluating network...\")\n",
        "predictions = model.predict(testX, batch_size=32)\n",
        "print(classification_report(testY.argmax(axis=1),\n",
        "\tpredictions.argmax(axis=1), target_names=lb.classes_))"
      ],
      "execution_count": 178,
      "outputs": [
        {
          "output_type": "stream",
          "text": [
            "[INFO] evaluating network...\n",
            "              precision    recall  f1-score   support\n",
            "\n",
            "       coast       0.79      0.93      0.85        95\n",
            "      forest       0.97      0.69      0.80        83\n",
            "     highway       0.68      0.76      0.72        59\n",
            "\n",
            "    accuracy                           0.80       237\n",
            "   macro avg       0.81      0.79      0.79       237\n",
            "weighted avg       0.82      0.80      0.80       237\n",
            "\n"
          ],
          "name": "stdout"
        }
      ]
    }
  ]
}